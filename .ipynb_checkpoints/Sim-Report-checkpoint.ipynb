{
 "cells": [
  {
   "cell_type": "markdown",
   "metadata": {},
   "source": [
    "We will start "
   ]
  },
  {
   "cell_type": "code",
   "execution_count": 2,
   "metadata": {},
   "outputs": [],
   "source": [
    "import numpy as np\n",
    "import pandas as pd\n",
    "import streamlit as st\n",
    "from sklearn.mixture import GaussianMixture\n",
    "import matplotlib.pyplot as plt\n",
    "\n",
    "\n"
   ]
  },
  {
   "cell_type": "code",
   "execution_count": 4,
   "metadata": {},
   "outputs": [
    {
     "data": {
      "text/plain": [
       "DeltaGenerator(_root_container=0, _provided_cursor=None, _parent=None, _block_type=None, _form_data=None)"
      ]
     },
     "execution_count": 4,
     "metadata": {},
     "output_type": "execute_result"
    },
    {
     "data": {
      "image/png": "[encoded data removed]",
      "text/plain": [
       "<Figure size 432x288 with 1 Axes>"
      ]
     },
     "metadata": {
      "needs_background": "light"
     },
     "output_type": "display_data"
    }
   ],
   "source": [
    "# Streamlit App Header\n",
    "st.title(\"Monte Carlo Simulation for Cost Estimation\")\n",
    "\n",
    "# Define the input dataset as a pandas DataFrame\n",
    "default_data = {\n",
    "    \"Feature\": [\n",
    "        \"Number Of Applications\",\n",
    "        \"% Of Applications With Point to Point Integrations\",\n",
    "        \"Average Number Of Point to Point Integrations\",\n",
    "        \"Number Of APIs to integrate with record keeping system\",\n",
    "        \"Development Hours\",\n",
    "        \"Annual Support Hours\",\n",
    "        \"Hardware Costs\",\n",
    "        \"Productivity Coefficient\",\n",
    "        \"Cost Per Hour\",\n",
    "    ],\n",
    "    \"Mean\": [\n",
    "        100,  # Number Of Applications\n",
    "        0.3,  # % With Point to Point Integrations\n",
    "        5,    # Avg Number of Point to Point Integrations\n",
    "        10,   # Number Of APIs\n",
    "        500,  # Development Hours\n",
    "        200,  # Annual Support Hours\n",
    "        10000,  # Hardware Costs\n",
    "        0.9,  # Productivity Coefficient\n",
    "        50,   # Cost Per Hour\n",
    "    ],\n",
    "    \"StdDev (%)\": [10] * 9,  # Standard deviation as a % of mean (adjustable)\n",
    "}\n",
    "\n",
    "# Convert to pandas DataFrame\n",
    "df = pd.DataFrame(default_data)\n",
    "df.head()\n"
   ]
  },
  {
   "cell_type": "code",
   "execution_count": null,
   "metadata": {},
   "outputs": [],
   "source": [
    "\n",
    "# Streamlit Sliders for Adjusting Input Data\n",
    "st.sidebar.header(\"Adjust Input Parameters\")\n",
    "\n",
    "for i in range(len(df)):\n",
    "    if df[\"Feature\"][i] == \"% Of Applications With Point to Point Integrations\" or df[\"Feature\"][i] == \"Productivity Coefficient\":\n",
    "        # For percentages and coefficients, use slider in [0, 1] range\n",
    "        df.at[i, \"Mean\"] = st.sidebar.slider(\n",
    "            df[\"Feature\"][i],\n",
    "            min_value=0.0,\n",
    "            max_value=1.0,\n",
    "            value=float(df[\"Mean\"][i]),\n",
    "            step=0.01,\n",
    "        )\n",
    "    else:\n",
    "        # For numeric features, use integer sliders\n",
    "        df.at[i, \"Mean\"] = st.sidebar.slider(\n",
    "            df[\"Feature\"][i],\n",
    "            min_value=0,\n",
    "            max_value=int(df[\"Mean\"][i] * 2),  # Allow adjusting up to 2x the default\n",
    "            value=int(df[\"Mean\"][i]),\n",
    "            step=1,\n",
    "        )\n",
    "\n",
    "# Allow standard deviation adjustment\n",
    "std_dev_percentage = st.sidebar.slider(\n",
    "    \"Standard Deviation (%)\",\n",
    "    min_value=1,\n",
    "    max_value=50,\n",
    "    value=10,\n",
    "    step=1,\n",
    ")\n",
    "\n",
    "# Update stddev in DataFrame\n",
    "df[\"StdDev\"] = df[\"Mean\"] * (std_dev_percentage / 100)\n",
    "\n",
    "# Display adjusted input data\n",
    "st.subheader(\"Adjusted Input Parameters\")\n",
    "st.write(df)\n",
    "\n",
    "# Step 1: Create Gaussian Mixture Model for the Monte Carlo Simulation\n",
    "means = df[\"Mean\"].values\n",
    "std_devs = df[\"StdDev\"].values\n",
    "cov_matrix = np.diag(std_devs**2)  # Start with independence\n",
    "\n",
    "# Fit Gaussian Mixture Model\n",
    "gmm = GaussianMixture(n_components=1, covariance_type=\"full\", random_state=42)\n",
    "gmm.means_ = means.reshape(1, -1)\n",
    "gmm.covariances_ = cov_matrix.reshape(1, len(means), len(means))\n",
    "gmm.weights_ = np.array([1])\n",
    "gmm.precisions_cholesky_ = np.linalg.cholesky(np.linalg.inv(cov_matrix)).reshape(1, len(means), len(means))\n",
    "\n",
    "# Step 2: Generate Monte Carlo samples\n",
    "num_simulations = st.sidebar.slider(\"Number of Simulations\", min_value=1000, max_value=50000, value=10000, step=1000)\n",
    "simulated_data = gmm.sample(n_samples=num_simulations)[0]\n",
    "simulated_df = pd.DataFrame(simulated_data, columns=df[\"Feature\"])\n",
    "\n",
    "# Step 3: Calculate costs for each simulation\n",
    "simulated_df[\"Cost\"] = (\n",
    "    (simulated_df[\"Development Hours\"] + simulated_df[\"Annual Support Hours\"]) * simulated_df[\"Cost Per Hour\"]\n",
    "    + simulated_df[\"Hardware Costs\"] * simulated_df[\"Productivity Coefficient\"]\n",
    ")\n",
    "\n",
    "# Step 4: Analyze results\n",
    "mean_cost = simulated_df[\"Cost\"].mean()\n",
    "std_cost = simulated_df[\"Cost\"].std()\n",
    "alpha = 0.05\n",
    "lower_bound = np.percentile(simulated_df[\"Cost\"], 100 * (alpha / 2))\n",
    "upper_bound = np.percentile(simulated_df[\"Cost\"], 100 * (1 - alpha / 2))\n",
    "confidence_interval = (lower_bound, upper_bound)\n",
    "\n",
    "# Display results\n",
    "st.subheader(\"Simulation Results\")\n",
    "st.write(f\"Mean Cost: ${mean_cost:,.2f}\")\n",
    "st.write(f\"Standard Deviation of Cost: ${std_cost:,.2f}\")\n",
    "st.write(f\"95% Confidence Interval: ${confidence_interval[0]:,.2f} - ${confidence_interval[1]:,.2f}\")\n",
    "\n",
    "# Step 5: Visualize the cost distribution\n",
    "st.subheader(\"Cost Distribution\")\n",
    "fig, ax = plt.subplots()\n",
    "ax.hist(simulated_df[\"Cost\"], bins=50, alpha=0.75, color=\"blue\")\n",
    "ax.set_title(\"Cost Distribution (Monte Carlo Simulation)\")\n",
    "ax.set_xlabel(\"Cost ($)\")\n",
    "ax.set_ylabel(\"Frequency\")\n",
    "st.pyplot(fig)"
   ]
  }
 ],
 "metadata": {
  "kernelspec": {
   "display_name": "Python 3 (ipykernel)",
   "language": "python",
   "name": "python3"
  },
  "language_info": {
   "codemirror_mode": {
    "name": "ipython",
    "version": 3
   },
   "file_extension": ".py",
   "mimetype": "text/x-python",
   "name": "python",
   "nbconvert_exporter": "python",
   "pygments_lexer": "ipython3",
   "version": "3.9.7"
  }
 },
 "nbformat": 4,
 "nbformat_minor": 4
}
